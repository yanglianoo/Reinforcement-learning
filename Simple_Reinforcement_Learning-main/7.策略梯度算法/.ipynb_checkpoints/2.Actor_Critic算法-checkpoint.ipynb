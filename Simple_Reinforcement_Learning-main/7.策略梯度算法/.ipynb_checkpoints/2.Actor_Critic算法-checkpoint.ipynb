{
 "cells": [
  {
   "cell_type": "code",
   "execution_count": 1,
   "metadata": {},
   "outputs": [
    {
     "name": "stderr",
     "output_type": "stream",
     "text": [
      "/root/anaconda3/envs/cpu/lib/python3.6/site-packages/gym/core.py:26: UserWarning: \u001b[33mWARN: Gym minimally supports python 3.6 as the python foundation not longer supports the version, please update your version to 3.7+\u001b[0m\n",
      "  \"Gym minimally supports python 3.6 as the python foundation not longer supports the version, please update your version to 3.7+\"\n",
      "/root/anaconda3/envs/cpu/lib/python3.6/site-packages/gym/envs/registration.py:593: UserWarning: \u001b[33mWARN: The environment CartPole-v0 is out of date. You should consider upgrading to version `v1`.\u001b[0m\n",
      "  f\"The environment {id} is out of date. You should consider \"\n",
      "/root/anaconda3/envs/cpu/lib/python3.6/site-packages/gym/core.py:330: DeprecationWarning: \u001b[33mWARN: Initializing wrapper in old step API which returns one bool instead of two. It is recommended to set `new_step_api=True` to use new step API. This will be the default behaviour in future.\u001b[0m\n",
      "  \"Initializing wrapper in old step API which returns one bool instead of two. It is recommended to set `new_step_api=True` to use new step API. This will be the default behaviour in future.\"\n",
      "/root/anaconda3/envs/cpu/lib/python3.6/site-packages/gym/wrappers/step_api_compatibility.py:40: DeprecationWarning: \u001b[33mWARN: Initializing environment in old step API which returns one bool instead of two. It is recommended to set `new_step_api=True` to use new step API. This will be the default behaviour in future.\u001b[0m\n",
      "  \"Initializing environment in old step API which returns one bool instead of two. It is recommended to set `new_step_api=True` to use new step API. This will be the default behaviour in future.\"\n",
      "/root/anaconda3/envs/cpu/lib/python3.6/site-packages/gym/core.py:52: DeprecationWarning: \u001b[33mWARN: The argument mode in render method is deprecated; use render_mode during environment initialization instead.\n",
      "See here for more information: https://www.gymlibrary.ml/content/api/\u001b[0m\n",
      "  \"The argument mode in render method is deprecated; \"\n"
     ]
    },
    {
     "data": {
      "image/png": "[encoded data removed]",
      "text/plain": [
       "<Figure size 432x288 with 1 Axes>"
      ]
     },
     "metadata": {
      "needs_background": "light"
     },
     "output_type": "display_data"
    }
   ],
   "source": [
    "import gym\n",
    "from matplotlib import pyplot as plt\n",
    "%matplotlib inline\n",
    "\n",
    "#创建环境\n",
    "env = gym.make('CartPole-v0')\n",
    "env.reset()\n",
    "\n",
    "\n",
    "#打印游戏\n",
    "def show():\n",
    "    plt.imshow(env.render(mode='rgb_array'))\n",
    "    plt.show()\n",
    "\n",
    "\n",
    "show()"
   ]
  },
  {
   "cell_type": "code",
   "execution_count": 2,
   "metadata": {},
   "outputs": [
    {
     "data": {
      "text/plain": [
       "(1, tensor(0.3800, grad_fn=<SelectBackward0>))"
      ]
     },
     "execution_count": 2,
     "metadata": {},
     "output_type": "execute_result"
    }
   ],
   "source": [
    "import torch\n",
    "import random\n",
    "\n",
    "\n",
    "#定义模型\n",
    "class Model(torch.nn.Module):\n",
    "    def __init__(self):\n",
    "        super().__init__()\n",
    "        self.sequential = torch.nn.Sequential(\n",
    "            torch.nn.Linear(4, 128),\n",
    "            torch.nn.ReLU(),\n",
    "            torch.nn.Linear(128, 2),\n",
    "            torch.nn.Softmax(dim=1),\n",
    "        )\n",
    "\n",
    "    #得到一个动作\n",
    "    def forward(self, state):\n",
    "        #[1, 4] -> [1, 2]\n",
    "        prob = self.sequential(state)\n",
    "\n",
    "        #根据概率选择一个动作\n",
    "        action = random.choices(range(2), weights=prob[0].tolist(), k=1)[0]\n",
    "\n",
    "        return action, prob[0, action]\n",
    "\n",
    "\n",
    "model = Model()\n",
    "\n",
    "model(torch.randn(1, 4))"
   ]
  },
  {
   "cell_type": "code",
   "execution_count": 3,
   "metadata": {},
   "outputs": [
    {
     "data": {
      "text/plain": [
       "tensor([[0.2994]], grad_fn=<AddmmBackward0>)"
      ]
     },
     "execution_count": 3,
     "metadata": {},
     "output_type": "execute_result"
    }
   ],
   "source": [
    "model_td = sequential = torch.nn.Sequential(\n",
    "    torch.nn.Linear(4, 128),\n",
    "    torch.nn.ReLU(),\n",
    "    torch.nn.Linear(128, 1),\n",
    ")\n",
    "\n",
    "model_td(torch.randn(1, 4))"
   ]
  },
  {
   "cell_type": "code",
   "execution_count": 4,
   "metadata": {
    "scrolled": true
   },
   "outputs": [
    {
     "data": {
      "text/plain": [
       "([tensor([[ 0.0103, -0.0136, -0.0174,  0.0115]]),\n",
       "  tensor([[ 0.0100, -0.2084, -0.0172,  0.2986]]),\n",
       "  tensor([[ 0.0058, -0.4033, -0.0112,  0.5858]]),\n",
       "  tensor([[-2.2255e-03, -5.9827e-01,  4.8581e-04,  8.7493e-01]]),\n",
       "  tensor([[-0.0142, -0.7934,  0.0180,  1.1678]]),\n",
       "  tensor([[-0.0301, -0.9887,  0.0413,  1.4660]]),\n",
       "  tensor([[-0.0498, -1.1844,  0.0707,  1.7713]]),\n",
       "  tensor([[-0.0735, -0.9901,  0.1061,  1.5014]]),\n",
       "  tensor([[-0.0933, -1.1863,  0.1361,  1.8253]]),\n",
       "  tensor([[-0.1170, -0.9930,  0.1726,  1.5778]]),\n",
       "  tensor([[-0.1369, -0.8003,  0.2042,  1.3435]])],\n",
       " [1.0, 1.0, 1.0, 1.0, 1.0, 1.0, 1.0, 1.0, 1.0, 1.0, 1.0],\n",
       " [tensor(0.5552, grad_fn=<SelectBackward0>),\n",
       "  tensor(0.5612, grad_fn=<SelectBackward0>),\n",
       "  tensor(0.5742, grad_fn=<SelectBackward0>),\n",
       "  tensor(0.5999, grad_fn=<SelectBackward0>),\n",
       "  tensor(0.6297, grad_fn=<SelectBackward0>),\n",
       "  tensor(0.6574, grad_fn=<SelectBackward0>),\n",
       "  tensor(0.3166, grad_fn=<SelectBackward0>),\n",
       "  tensor(0.6603, grad_fn=<SelectBackward0>),\n",
       "  tensor(0.3130, grad_fn=<SelectBackward0>),\n",
       "  tensor(0.3337, grad_fn=<SelectBackward0>),\n",
       "  tensor(0.6449, grad_fn=<SelectBackward0>)],\n",
       " [tensor([[ 0.0100, -0.2084, -0.0172,  0.2986]]),\n",
       "  tensor([[ 0.0058, -0.4033, -0.0112,  0.5858]]),\n",
       "  tensor([[-2.2255e-03, -5.9827e-01,  4.8581e-04,  8.7493e-01]]),\n",
       "  tensor([[-0.0142, -0.7934,  0.0180,  1.1678]]),\n",
       "  tensor([[-0.0301, -0.9887,  0.0413,  1.4660]]),\n",
       "  tensor([[-0.0498, -1.1844,  0.0707,  1.7713]]),\n",
       "  tensor([[-0.0735, -0.9901,  0.1061,  1.5014]]),\n",
       "  tensor([[-0.0933, -1.1863,  0.1361,  1.8253]]),\n",
       "  tensor([[-0.1170, -0.9930,  0.1726,  1.5778]]),\n",
       "  tensor([[-0.1369, -0.8003,  0.2042,  1.3435]]),\n",
       "  tensor([[-0.1529, -0.9973,  0.2310,  1.6925]])],\n",
       " [False, False, False, False, False, False, False, False, False, False, True])"
      ]
     },
     "execution_count": 4,
     "metadata": {},
     "output_type": "execute_result"
    }
   ],
   "source": [
    "def get_data():\n",
    "    states = []\n",
    "    rewards = []\n",
    "    probs = []\n",
    "    next_states = []\n",
    "    overs = []\n",
    "\n",
    "    #初始化游戏\n",
    "    state = env.reset()\n",
    "\n",
    "    #玩到游戏结束为止\n",
    "    over = False\n",
    "    while not over:\n",
    "        #根据当前状态得到一个动作\n",
    "        state = torch.FloatTensor(state).reshape(1, 4)\n",
    "        action, prob = model(state)\n",
    "\n",
    "        #执行动作,得到反馈\n",
    "        next_state, reward, over, _ = env.step(action)\n",
    "\n",
    "        #记录数据样本\n",
    "        states.append(state)\n",
    "        rewards.append(reward)\n",
    "        probs.append(prob)\n",
    "        next_states.append(torch.FloatTensor(next_state).reshape(1, 4))\n",
    "        overs.append(over)\n",
    "\n",
    "        #更新游戏状态,开始下一个动作\n",
    "        state = next_state\n",
    "\n",
    "    return states, rewards, probs, next_states, overs\n",
    "\n",
    "\n",
    "get_data()"
   ]
  },
  {
   "cell_type": "code",
   "execution_count": 5,
   "metadata": {},
   "outputs": [
    {
     "data": {
      "text/plain": [
       "17.0"
      ]
     },
     "execution_count": 5,
     "metadata": {},
     "output_type": "execute_result"
    }
   ],
   "source": [
    "from IPython import display\n",
    "\n",
    "\n",
    "def test(play):\n",
    "    #初始化游戏\n",
    "    state = env.reset()\n",
    "\n",
    "    #记录反馈值的和,这个值越大越好\n",
    "    reward_sum = 0\n",
    "\n",
    "    #玩到游戏结束为止\n",
    "    over = False\n",
    "    while not over:\n",
    "        #根据当前状态得到一个动作\n",
    "        state = torch.FloatTensor(state).reshape(1, 4)\n",
    "        with torch.no_grad():\n",
    "            action, _ = model(state)\n",
    "\n",
    "        #执行动作,得到反馈\n",
    "        state, reward, over, _ = env.step(action)\n",
    "        reward_sum += reward\n",
    "\n",
    "        #打印动画\n",
    "        if play:\n",
    "            display.clear_output(wait=True)\n",
    "            show()\n",
    "\n",
    "    return reward_sum\n",
    "\n",
    "\n",
    "test(play=False)"
   ]
  },
  {
   "cell_type": "code",
   "execution_count": 6,
   "metadata": {
    "executionInfo": {
     "elapsed": 8251,
     "status": "ok",
     "timestamp": 1650011468229,
     "user": {
      "displayName": "Sam Lu",
      "userId": "15789059763790170725"
     },
     "user_tz": -480
    },
    "id": "BQXVYW2T_DcQ",
    "scrolled": false
   },
   "outputs": [
    {
     "name": "stdout",
     "output_type": "stream",
     "text": [
      "0 26.7\n",
      "100 15.8\n",
      "200 43.0\n",
      "300 88.1\n",
      "400 78.4\n",
      "500 183.3\n",
      "600 182.7\n",
      "700 194.5\n",
      "800 200.0\n",
      "900 188.7\n"
     ]
    }
   ],
   "source": [
    "def train():\n",
    "    optimizer = torch.optim.Adam(model.parameters(), lr=1e-3)\n",
    "    optimizer_td = torch.optim.Adam(model_td.parameters(), lr=1e-2)\n",
    "\n",
    "    #玩N局游戏,每局游戏训练一次\n",
    "    for epoch in range(1000):\n",
    "        #玩一局游戏,得到数据\n",
    "        states, rewards, probs, next_states, overs = get_data()\n",
    "\n",
    "        #计算values和targets\n",
    "        values = [model_td(state) for state in states]\n",
    "        targets = [model_td(next_state) * 0.98 for next_state in next_states]\n",
    "        targets = [\n",
    "            target * (0 if over else 1)\n",
    "            for target, over in zip(targets, overs)\n",
    "        ]\n",
    "        targets = [target + reward for target, reward in zip(targets, rewards)]\n",
    "\n",
    "        #取出每一步的动作概率,取对数后作为loss\n",
    "        #因为概率一定是0-1之间的小数,所以取对数之后一定是负数\n",
    "        #符号取反,一定是正数,最终导致的结果就是,概率越小,loss越大,反之亦然\n",
    "        #这样会迫使prob的取值越来越大\n",
    "        probs = [-i.log() for i in probs]\n",
    "\n",
    "        #第一部分的loss是针对prob的,以target和value的差作为系数\n",
    "        loss = [\n",
    "            prob * (target - value).detach()\n",
    "            for prob, target, value in zip(probs, targets, values)\n",
    "        ]\n",
    "        loss = sum(loss) / len(loss)\n",
    "\n",
    "        #第二部分的loss是针对value的,越接近target就越好\n",
    "        loss_td = [\n",
    "            torch.nn.functional.mse_loss(value, target.detach())\n",
    "            for value, target in zip(values, targets)\n",
    "        ]\n",
    "        loss_td = sum(loss_td) / len(loss_td)\n",
    "\n",
    "        optimizer.zero_grad()\n",
    "        optimizer_td.zero_grad()\n",
    "        loss.backward()\n",
    "        loss_td.backward()\n",
    "        optimizer.step()\n",
    "        optimizer_td.step()\n",
    "\n",
    "        if epoch % 100 == 0:\n",
    "            test_result = sum([test(play=False) for _ in range(10)]) / 10\n",
    "            print(epoch, test_result)\n",
    "\n",
    "\n",
    "train()"
   ]
  },
  {
   "cell_type": "code",
   "execution_count": 7,
   "metadata": {},
   "outputs": [
    {
     "data": {
      "image/png": "[encoded data removed]",
      "text/plain": [
       "<Figure size 432x288 with 1 Axes>"
      ]
     },
     "metadata": {
      "needs_background": "light"
     },
     "output_type": "display_data"
    },
    {
     "data": {
      "text/plain": [
       "200.0"
      ]
     },
     "execution_count": 7,
     "metadata": {},
     "output_type": "execute_result"
    }
   ],
   "source": [
    "test(play=True)"
   ]
  }
 ],
 "metadata": {
  "colab": {
   "collapsed_sections": [],
   "name": "第9章-策略梯度算法.ipynb",
   "provenance": []
  },
  "kernelspec": {
   "display_name": "Python 3",
   "language": "python",
   "name": "python3"
  },
  "language_info": {
   "codemirror_mode": {
    "name": "ipython",
    "version": 3
   },
   "file_extension": ".py",
   "mimetype": "text/x-python",
   "name": "python",
   "nbconvert_exporter": "python",
   "pygments_lexer": "ipython3",
   "version": "3.6.13"
  }
 },
 "nbformat": 4,
 "nbformat_minor": 1
}
